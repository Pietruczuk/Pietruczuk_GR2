{
 "cells": [
  {
   "metadata": {},
   "cell_type": "markdown",
   "source": "Krzysztof Pietruczuk - Matematyka Elementarna",
   "id": "fcdcb376253fdf6e"
  },
  {
   "metadata": {
    "ExecuteTime": {
     "end_time": "2024-10-27T06:35:29.466832Z",
     "start_time": "2024-10-27T06:35:29.049293Z"
    }
   },
   "cell_type": "code",
   "source": [
    "import matplotlib.pyplot as plt\n",
    "import numpy as np\n",
    "\n",
    "# Create a new figure with white background\n",
    "fig, ax = plt.subplots(figsize=(5, 6), facecolor='white')\n",
    "ax.set_facecolor('white')\n",
    "\n",
    "# Set axis limits and turn off the grid and axes\n",
    "ax.set_xlim(-1, 10)\n",
    "ax.set_ylim(-5, 5)\n",
    "ax.axis('off')\n",
    "\n",
    "# Drawing the top arrow and interval\n",
    "ax.arrow(0, 2, 9, 0, head_width=0.2, head_length=0.4, fc='blue', ec='blue')\n",
    "ax.plot([0, 3], [2, 2], color='blue', linewidth=3)  # Interval line\n",
    "ax.plot(3, 2, 'o', color='blue', markerfacecolor='blue')  # Closed circle\n",
    "ax.fill_betweenx([1.8, 2.2], 0, 3, color='blue', alpha=0.2)  # Shading\n",
    "\n",
    "# Drawing the bottom arrow and interval\n",
    "ax.arrow(0, -2, 9, 0, head_width=0.2, head_length=0.4, fc='blue', ec='blue')\n",
    "ax.plot([3, 8], [-2, -2], color='blue', linewidth=3)  # Interval line\n",
    "ax.plot(3, -2, 'o', color='white', markeredgecolor='blue', markeredgewidth=2)  # Open circle\n",
    "ax.fill_betweenx([-2.2, -1.8], 3, 8, color='blue', alpha=0.2)  # Shading\n",
    "\n",
    "# Display the plot\n",
    "plt.show()\n"
   ],
   "id": "ab50cf937e288341",
   "outputs": [
    {
     "data": {
      "text/plain": [
       "<Figure size 500x600 with 1 Axes>"
      ],
      "image/png": "[encoded data removed]"
     },
     "metadata": {},
     "output_type": "display_data"
    }
   ],
   "execution_count": 1
  },
  {
   "metadata": {
    "ExecuteTime": {
     "end_time": "2024-10-27T07:02:15.954990Z",
     "start_time": "2024-10-27T07:02:15.920237Z"
    }
   },
   "cell_type": "code",
   "source": [
    "# Replotting with only the top arrow and interval\n",
    "\n",
    "fig, ax = plt.subplots(figsize=(5, 2), facecolor='white')\n",
    "ax.set_facecolor('white')\n",
    "\n",
    "# Set axis limits and turn off the grid and axes\n",
    "ax.set_xlim(-1, 10)\n",
    "ax.set_ylim(1, 3)\n",
    "ax.axis('off')\n",
    "\n",
    "# Drawing the top arrow and interval, with the thick line just above the arrow line\n",
    "ax.arrow(0, 2, 9, 0, head_width=0.1, head_length=0.3, fc='blue', ec='blue')\n",
    "ax.plot([0, 3], [2.2, 2.2], color='blue', linewidth=6)  # Interval line just above arrow line\n",
    "ax.plot(3, 2.2, 'o', color='blue', markerfacecolor='blue')  # Closed circle\n",
    "ax.fill_betweenx([2, 2.4], 0, 3, color='blue', alpha=0.2)  # Shading\n",
    "ax.text(3, 1.8, '4', color='blue', ha='center', va='top', fontsize=12)  # Adding \"4\" below\n",
    "\n",
    "# Display the plot\n",
    "plt.show()\n"
   ],
   "id": "ee73d31bf3d2f3d6",
   "outputs": [
    {
     "data": {
      "text/plain": [
       "<Figure size 500x200 with 1 Axes>"
      ],
      "image/png": "[encoded data removed]"
     },
     "metadata": {},
     "output_type": "display_data"
    }
   ],
   "execution_count": 2
  },
  {
   "metadata": {},
   "cell_type": "code",
   "outputs": [],
   "execution_count": null,
   "source": "",
   "id": "8e7eacb0040f04e0"
  }
 ],
 "metadata": {
  "kernelspec": {
   "display_name": "Python 3",
   "language": "python",
   "name": "python3"
  },
  "language_info": {
   "codemirror_mode": {
    "name": "ipython",
    "version": 2
   },
   "file_extension": ".py",
   "mimetype": "text/x-python",
   "name": "python",
   "nbconvert_exporter": "python",
   "pygments_lexer": "ipython2",
   "version": "2.7.6"
  }
 },
 "nbformat": 4,
 "nbformat_minor": 5
}
